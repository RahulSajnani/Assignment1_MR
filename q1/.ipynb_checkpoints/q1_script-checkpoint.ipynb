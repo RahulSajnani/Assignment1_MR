{
 "cells": [
  {
   "cell_type": "code",
   "execution_count": 29,
   "metadata": {},
   "outputs": [],
   "source": [
    "import numpy as np\n",
    "import load_points\n",
    "import matplotlib.pyplot as plt\n"
   ]
  },
  {
   "cell_type": "code",
   "execution_count": 30,
   "metadata": {},
   "outputs": [],
   "source": [
    "# World to Camera transformation of Frame\n",
    "# 1. Translate by [27,6,-8]\n",
    "# 2. Rotate by -90˚ along the Z axis\n",
    "# 3. Rotate by -90˚ along the X axis\n",
    "\n",
    "# Thus,\n",
    "#     Pworld = [ 1 0 0 27 ] [ 0 1 0 0 ] [1  0 0 0] Pcamera\n",
    "#              [ 0 1 0  6 ] [-1 0 0 0 ] [0  0 1 0]\n",
    "#              [ 0 0 1 -8 ] [ 0 0 1 0 ] [0 -1 0 0]\n",
    "#              [ 0 0 0  1 ] [ 0 0 0 1 ] [0  0 0 1]"
   ]
  },
  {
   "cell_type": "code",
   "execution_count": 31,
   "metadata": {},
   "outputs": [],
   "source": [
    "\n",
    "T1 = np.array([[1,0,0,-0.27],[0,1,0,-0.06],[0,0,1,0.08],[0,0,0,1]])\n",
    "R1 = np.array([[0,0,-1,0],[0,1,0,0],[1,0,0,0],[0,0,0,1]])\n",
    "R2 = np.array([[0,-1,0,0],[1,0,0,0],[0,0,1,0],[0,0,0,1]])\n",
    "K = np.array([[7.215377e+02, 0.000000e+00, 6.095593e+02],[0.000000e+00, 7.215377e+02, 1.728540e+02],[0.000000e+00, 0.000000e+00, 1.000000e+00]])"
   ]
  },
  {
   "cell_type": "code",
   "execution_count": 32,
   "metadata": {},
   "outputs": [],
   "source": [
    " M = np.matmul(np.matmul(R2,R1),T1)\n",
    "tK = np.append(K, np.zeros((K.shape[0],1)), axis=1)\n",
    "P = np.matmul(tK,M)\n"
   ]
  },
  {
   "cell_type": "code",
   "execution_count": 33,
   "metadata": {},
   "outputs": [],
   "source": [
    "points = load_points.load_velodyne_points('lidar-points.bin')\n",
    "points = np.append(points, np.ones((points.shape[0],1)), axis=1)"
   ]
  },
  {
   "cell_type": "code",
   "execution_count": 34,
   "metadata": {},
   "outputs": [],
   "source": [
    "image_points = np.matmul(P, points.T)\n",
    "image_points = image_points.T"
   ]
  },
  {
   "cell_type": "code",
   "execution_count": 35,
   "metadata": {},
   "outputs": [
    {
     "name": "stdout",
     "output_type": "stream",
     "text": [
      "[[ 5.15111365e+02  1.43209388e+02  1.00000000e+00]\n",
      " [ 5.04651990e+02  1.43126007e+02  1.00000000e+00]\n",
      " [ 4.79142350e+02  1.40984838e+02  1.00000000e+00]\n",
      " ...\n",
      " [ 6.30753475e+03 -1.85682814e+03  1.00000000e+00]\n",
      " [ 5.71890965e+03 -1.64949123e+03  1.00000000e+00]\n",
      " [ 5.24160698e+03 -1.48051416e+03  1.00000000e+00]]\n"
     ]
    },
    {
     "data": {
      "image/png": "[encoded data removed]",
      "text/plain": [
       "<Figure size 432x288 with 1 Axes>"
      ]
     },
     "metadata": {
      "needs_background": "light"
     },
     "output_type": "display_data"
    }
   ],
   "source": [
    "image_points[:,0] /= image_points[:,2]\n",
    "image_points[:,1] /= image_points[:,2]\n",
    "image_points[:,2] /= image_points[:,2]\n",
    "print(image_points)\n",
    "plt.scatter(image_points[:,0], image_points[:,1], s=0.1)\n",
    "plt.show()"
   ]
  },
  {
   "cell_type": "code",
   "execution_count": null,
   "metadata": {},
   "outputs": [],
   "source": []
  },
  {
   "cell_type": "code",
   "execution_count": null,
   "metadata": {},
   "outputs": [],
   "source": []
  }
 ],
 "metadata": {
  "kernelspec": {
   "display_name": "Python (SMAI)",
   "language": "python",
   "name": "myenv"
  },
  "language_info": {
   "codemirror_mode": {
    "name": "ipython",
    "version": 3
   },
   "file_extension": ".py",
   "mimetype": "text/x-python",
   "name": "python",
   "nbconvert_exporter": "python",
   "pygments_lexer": "ipython3",
   "version": "3.7.3"
  }
 },
 "nbformat": 4,
 "nbformat_minor": 2
}
