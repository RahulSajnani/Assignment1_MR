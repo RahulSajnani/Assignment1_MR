{
 "cells": [
  {
   "cell_type": "code",
   "execution_count": 78,
   "metadata": {},
   "outputs": [],
   "source": [
    "import numpy as np\n",
    "from numpy import linalg as LA\n",
    "from matplotlib import pyplot as plt\n",
    "import cv2"
   ]
  },
  {
   "cell_type": "code",
   "execution_count": 79,
   "metadata": {},
   "outputs": [],
   "source": [
    "# Image pixel locations of the corners of the april tags (clock-wise from top-left to bottom-right) (left, right)\n",
    "x = np.array([\n",
    "    [284.56243896, 149.29254150],\n",
    "    [373.93179321, 128.26719666],\n",
    "    [387.53588867, 220.22708130],\n",
    "    [281.29962158, 241.72782898],\n",
    "    [428.86453247, 114.50731659],\n",
    "    [524.76373291, 92.092185970],\n",
    "    [568.36596680, 180.55757141],\n",
    "    [453.60995483, 205.22370911],\n",
    "])\n",
    "\n",
    "# World coordinates of the corners of the april tags\n",
    "X = np.array([\n",
    "    [0.0000, 0.0000, 1],\n",
    "    [0.1315, 0.0000, 1],\n",
    "    [0.1315, 0.1315, 1],\n",
    "    [0.0000, 0.1315, 1],\n",
    "    [0.2105, 0.0000, 1],\n",
    "    [0.2105, 0.3420, 1],\n",
    "    [0.1315, 0.3420, 1],\n",
    "    [0.2105, 0.0000, 1],\n",
    "])\n",
    "\n"
   ]
  },
  {
   "cell_type": "code",
   "execution_count": 80,
   "metadata": {},
   "outputs": [],
   "source": [
    "M1 = np.append(np.append(-X,np.zeros(X.shape),axis=1), X*x[:,0,None], axis=1)\n",
    "M2 = np.append(np.append(np.zeros(X.shape),-X,axis=1), X*x[:,1,None], axis=1)\n",
    "M  = np.zeros((16,9))\n",
    "\n",
    "for i in range(8):\n",
    "    M[2*i,:] = M1[i,:]\n",
    "    M[2*i+1,:] = M2[i,:]\n",
    "\n",
    "# SVD of the M Matrix\n",
    "u, s, vh = LA.svd(M)\n",
    "\n",
    "# Taking the last row of vh and reshaping it to get the homography matrix\n",
    "H = vh[-1,:].reshape((3,3))\n",
    "# L = np.matmul(H,np.array([0,0,1]))\n",
    "# print(L)"
   ]
  },
  {
   "cell_type": "code",
   "execution_count": 85,
   "metadata": {},
   "outputs": [
    {
     "name": "stdout",
     "output_type": "stream",
     "text": [
      "[[-8.98620200e-01  1.80019884e-01  4.39654175e-02]\n",
      " [-3.86050497e-01  9.17948327e-02  2.59848690e-02]\n",
      " [-2.21406921e-03  4.56632218e-04  1.30887643e-04]]\n"
     ]
    }
   ],
   "source": [
    "print(H)"
   ]
  },
  {
   "cell_type": "code",
   "execution_count": null,
   "metadata": {},
   "outputs": [],
   "source": []
  }
 ],
 "metadata": {
  "kernelspec": {
   "display_name": "Python 3",
   "language": "python",
   "name": "python3"
  },
  "language_info": {
   "codemirror_mode": {
    "name": "ipython",
    "version": 3
   },
   "file_extension": ".py",
   "mimetype": "text/x-python",
   "name": "python",
   "nbconvert_exporter": "python",
   "pygments_lexer": "ipython3",
   "version": "3.7.4"
  }
 },
 "nbformat": 4,
 "nbformat_minor": 2
}
